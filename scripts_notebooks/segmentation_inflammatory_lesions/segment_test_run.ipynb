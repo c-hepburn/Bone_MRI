{
 "cells": [
  {
   "cell_type": "code",
   "execution_count": 1,
   "metadata": {},
   "outputs": [],
   "source": [
    "from segment_test import *"
   ]
  },
  {
   "cell_type": "code",
   "execution_count": 2,
   "metadata": {},
   "outputs": [
    {
     "name": "stderr",
     "output_type": "stream",
     "text": [
      "test_compute_thresholds (segment_test.SegmentTest) ... ok\n",
      "test_remove_residues (segment_test.SegmentTest) ... ok\n",
      "test_retrieve_intensity_values (segment_test.SegmentTest) ... ok\n",
      "test_threshold (segment_test.SegmentTest) ... "
     ]
    },
    {
     "name": "stdout",
     "output_type": "stream",
     "text": [
      "Generated input image\n",
      " [[10. 10. 10. 10. 10. 10.]\n",
      " [ 0.  0.  0.  0.  0.  0.]\n",
      " [ 1.  5. 10.  0. 20.  0.]\n",
      " [ 1.  5. 10.  0.  0.  0.]\n",
      " [ 1.  5. 10.  0. 20. 20.]\n",
      " [ 1.  5. 10.  0. 20. 20.]]\n",
      "\n",
      "Generated input mask\n",
      " [[0. 0. 0. 0. 0. 0.]\n",
      " [0. 0. 0. 0. 0. 0.]\n",
      " [1. 1. 1. 1. 1. 1.]\n",
      " [1. 1. 1. 1. 1. 1.]\n",
      " [1. 1. 1. 1. 1. 1.]\n",
      " [1. 1. 1. 1. 1. 1.]]\n",
      "\n",
      "Expected output of the retrieve_intensity_values() method\n",
      " [ 0.  0.  0.  0.  0.  0.  0.  1.  1.  1.  1.  5.  5.  5.  5. 10. 10. 10.\n",
      " 10. 20. 20. 20. 20. 20.]\n",
      "\n",
      "Expected outputs of the threshold() method (thresholds: 5., 10.)\n",
      "\n",
      "[[0. 0. 0. 0. 0. 0.]\n",
      " [0. 0. 0. 0. 0. 0.]\n",
      " [0. 1. 1. 0. 1. 0.]\n",
      " [0. 1. 1. 0. 0. 0.]\n",
      " [0. 1. 1. 0. 1. 1.]\n",
      " [0. 1. 1. 0. 1. 1.]] \n",
      "\n",
      "[[0. 0. 0. 0. 0. 0.]\n",
      " [0. 0. 0. 0. 0. 0.]\n",
      " [0. 0. 1. 0. 1. 0.]\n",
      " [0. 0. 1. 0. 0. 0.]\n",
      " [0. 0. 1. 0. 1. 1.]\n",
      " [0. 0. 1. 0. 1. 1.]] \n",
      "\n",
      "[[0. 0. 0. 0. 0. 0.]\n",
      " [0. 0. 0. 0. 0. 0.]\n",
      " [0. 1. 2. 0. 2. 0.]\n",
      " [0. 1. 2. 0. 0. 0.]\n",
      " [0. 1. 2. 0. 2. 2.]\n",
      " [0. 1. 2. 0. 2. 2.]] \n",
      "\n",
      "\n",
      "Expected output of the remove_residues() method\n",
      " [[0. 0. 0. 0. 0. 0.]\n",
      " [0. 0. 0. 0. 0. 0.]\n",
      " [0. 1. 2. 0. 0. 0.]\n",
      " [0. 1. 2. 0. 0. 0.]\n",
      " [0. 1. 2. 0. 2. 2.]\n",
      " [0. 1. 2. 0. 2. 2.]]\n"
     ]
    },
    {
     "name": "stderr",
     "output_type": "stream",
     "text": [
      "ok\n",
      "\n",
      "----------------------------------------------------------------------\n",
      "Ran 4 tests in 0.006s\n",
      "\n",
      "OK\n"
     ]
    },
    {
     "data": {
      "text/plain": [
       "<unittest.main.TestProgram at 0x7f6c9a4db588>"
      ]
     },
     "execution_count": 2,
     "metadata": {},
     "output_type": "execute_result"
    }
   ],
   "source": [
    "## Run unit tests        \n",
    "unittest.main(argv=[''], verbosity = 3, exit = False)"
   ]
  }
 ],
 "metadata": {
  "kernelspec": {
   "display_name": "Python 3",
   "language": "python",
   "name": "python3"
  },
  "language_info": {
   "codemirror_mode": {
    "name": "ipython",
    "version": 3
   },
   "file_extension": ".py",
   "mimetype": "text/x-python",
   "name": "python",
   "nbconvert_exporter": "python",
   "pygments_lexer": "ipython3",
   "version": "3.6.8"
  }
 },
 "nbformat": 4,
 "nbformat_minor": 2
}

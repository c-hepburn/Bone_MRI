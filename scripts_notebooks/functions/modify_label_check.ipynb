{
 "cells": [
  {
   "cell_type": "code",
   "execution_count": 1,
   "metadata": {},
   "outputs": [],
   "source": [
    "from modify_label import *"
   ]
  },
  {
   "cell_type": "code",
   "execution_count": 2,
   "metadata": {},
   "outputs": [],
   "source": [
    "## Generate input: 3D numpy array of size [H,W,D];\n",
    "## Possible values of the array elements are 0,1,2;\n",
    "inputs = np.zeros([3,3,2])\n",
    "inputs[:,0,0], inputs[:,1,0] = 1., 2.\n",
    "inputs[0,:,1], inputs[2,:,1] = 1., 2.\n",
    "\n",
    "## Generate the expected output: binary 3D numpy array of size (H,W,D);\n",
    "expected_output =  np.zeros([3,3,2])\n",
    "expected_output[:,0,0], expected_output[:,1,0] = 1., 1.\n",
    "expected_output[0,:,1], expected_output[2,:,1] = 1., 1.\n",
    "\n",
    "## Pass the input array to the function:\n",
    "## array elements with the value 2. are re-assigned a new value, 1.;\n",
    "outputs = modify_label(inputs)\n",
    "\n",
    "## Check whether the function output matches the expected output (arrays equality);\n",
    "np.testing.assert_array_equal(outputs, expected_output)"
   ]
  },
  {
   "cell_type": "code",
   "execution_count": 3,
   "metadata": {},
   "outputs": [
    {
     "name": "stdout",
     "output_type": "stream",
     "text": [
      "[[1. 2. 0.]\n",
      " [1. 2. 0.]\n",
      " [1. 2. 0.]] \n",
      "\n",
      "[[1. 1. 1.]\n",
      " [0. 0. 0.]\n",
      " [2. 2. 2.]] \n",
      "\n",
      "[[1. 1. 0.]\n",
      " [1. 1. 0.]\n",
      " [1. 1. 0.]] \n",
      "\n",
      "[[1. 1. 1.]\n",
      " [0. 0. 0.]\n",
      " [1. 1. 1.]] \n",
      "\n"
     ]
    }
   ],
   "source": [
    "## Output the input and function output arrays;\n",
    "print(inputs[:,:,0], '\\n')\n",
    "print(inputs[:,:,1], '\\n')\n",
    "print(outputs[:,:,0], '\\n')\n",
    "print(outputs[:,:,1], '\\n')"
   ]
  }
 ],
 "metadata": {
  "kernelspec": {
   "display_name": "Python 3",
   "language": "python",
   "name": "python3"
  },
  "language_info": {
   "codemirror_mode": {
    "name": "ipython",
    "version": 3
   },
   "file_extension": ".py",
   "mimetype": "text/x-python",
   "name": "python",
   "nbconvert_exporter": "python",
   "pygments_lexer": "ipython3",
   "version": "3.6.8"
  }
 },
 "nbformat": 4,
 "nbformat_minor": 2
}

{
 "cells": [
  {
   "cell_type": "markdown",
   "metadata": {},
   "source": [
    "Purpose: \n",
    "- output the structure of a defined model;\n",
    "- pass an image sample through the model and output tensor size (feature maps) as it propagates through the layers;"
   ]
  },
  {
   "cell_type": "code",
   "execution_count": 1,
   "metadata": {},
   "outputs": [],
   "source": [
    "import nibabel as nib\n",
    "from model import *\n",
    "from db_modify_array import modify_array"
   ]
  },
  {
   "cell_type": "code",
   "execution_count": 2,
   "metadata": {},
   "outputs": [
    {
     "data": {
      "text/plain": [
       "torch.Size([2, 1, 336, 336])"
      ]
     },
     "execution_count": 2,
     "metadata": {},
     "output_type": "execute_result"
    }
   ],
   "source": [
    "## Load an image; retrieve numpy array;\n",
    "## modify dimensions, data type to match model required input;\n",
    "image = nib.load('example_image.nii.gz')\n",
    "image = image.get_fdata()\n",
    "image = modify_array(image)\n",
    "\n",
    "## Convert to 4D torch tensor of size [2,1,H,W];\n",
    "inputs = image[10:12,:,:,:]\n",
    "inputs = torch.from_numpy(inputs)\n",
    "inputs.shape ## output inputs tensor size;"
   ]
  },
  {
   "cell_type": "code",
   "execution_count": 3,
   "metadata": {},
   "outputs": [],
   "source": [
    "## Define a model (allocated on cpu); \n",
    "model = UNet(depth = 4,\n",
    "             filter_number = 4,\n",
    "             kernel_size = 3,\n",
    "             padding = 1,\n",
    "             output = True) ## output tensor size from each resolution layer is outputted;"
   ]
  },
  {
   "cell_type": "code",
   "execution_count": 4,
   "metadata": {},
   "outputs": [
    {
     "name": "stdout",
     "output_type": "stream",
     "text": [
      "UNet(\n",
      "  (down_path): ModuleList(\n",
      "    (0): ConvBlock(\n",
      "      (convblock): Sequential(\n",
      "        (0): Conv2d(1, 16, kernel_size=(3, 3), stride=(1, 1), padding=(1, 1))\n",
      "        (1): BatchNorm2d(16, eps=1e-05, momentum=0.1, affine=True, track_running_stats=True)\n",
      "        (2): ReLU()\n",
      "        (3): Conv2d(16, 16, kernel_size=(3, 3), stride=(1, 1), padding=(1, 1))\n",
      "        (4): BatchNorm2d(16, eps=1e-05, momentum=0.1, affine=True, track_running_stats=True)\n",
      "        (5): ReLU()\n",
      "      )\n",
      "    )\n",
      "    (1): ConvBlock(\n",
      "      (convblock): Sequential(\n",
      "        (0): Conv2d(16, 32, kernel_size=(3, 3), stride=(1, 1), padding=(1, 1))\n",
      "        (1): BatchNorm2d(32, eps=1e-05, momentum=0.1, affine=True, track_running_stats=True)\n",
      "        (2): ReLU()\n",
      "        (3): Conv2d(32, 32, kernel_size=(3, 3), stride=(1, 1), padding=(1, 1))\n",
      "        (4): BatchNorm2d(32, eps=1e-05, momentum=0.1, affine=True, track_running_stats=True)\n",
      "        (5): ReLU()\n",
      "      )\n",
      "    )\n",
      "    (2): ConvBlock(\n",
      "      (convblock): Sequential(\n",
      "        (0): Conv2d(32, 64, kernel_size=(3, 3), stride=(1, 1), padding=(1, 1))\n",
      "        (1): BatchNorm2d(64, eps=1e-05, momentum=0.1, affine=True, track_running_stats=True)\n",
      "        (2): ReLU()\n",
      "        (3): Conv2d(64, 64, kernel_size=(3, 3), stride=(1, 1), padding=(1, 1))\n",
      "        (4): BatchNorm2d(64, eps=1e-05, momentum=0.1, affine=True, track_running_stats=True)\n",
      "        (5): ReLU()\n",
      "      )\n",
      "    )\n",
      "    (3): ConvBlock(\n",
      "      (convblock): Sequential(\n",
      "        (0): Conv2d(64, 128, kernel_size=(3, 3), stride=(1, 1), padding=(1, 1))\n",
      "        (1): BatchNorm2d(128, eps=1e-05, momentum=0.1, affine=True, track_running_stats=True)\n",
      "        (2): ReLU()\n",
      "        (3): Conv2d(128, 128, kernel_size=(3, 3), stride=(1, 1), padding=(1, 1))\n",
      "        (4): BatchNorm2d(128, eps=1e-05, momentum=0.1, affine=True, track_running_stats=True)\n",
      "        (5): ReLU()\n",
      "      )\n",
      "    )\n",
      "  )\n",
      "  (up_path): ModuleList(\n",
      "    (0): UpConvBlock(\n",
      "      (UpBlock): Sequential(\n",
      "        (0): Upsample(scale_factor=2.0, mode=bilinear)\n",
      "        (1): Conv2d(128, 64, kernel_size=(1, 1), stride=(1, 1))\n",
      "      )\n",
      "      (ConvBlock): ConvBlock(\n",
      "        (convblock): Sequential(\n",
      "          (0): Conv2d(128, 64, kernel_size=(3, 3), stride=(1, 1), padding=(1, 1))\n",
      "          (1): BatchNorm2d(64, eps=1e-05, momentum=0.1, affine=True, track_running_stats=True)\n",
      "          (2): ReLU()\n",
      "          (3): Conv2d(64, 64, kernel_size=(3, 3), stride=(1, 1), padding=(1, 1))\n",
      "          (4): BatchNorm2d(64, eps=1e-05, momentum=0.1, affine=True, track_running_stats=True)\n",
      "          (5): ReLU()\n",
      "        )\n",
      "      )\n",
      "    )\n",
      "    (1): UpConvBlock(\n",
      "      (UpBlock): Sequential(\n",
      "        (0): Upsample(scale_factor=2.0, mode=bilinear)\n",
      "        (1): Conv2d(64, 32, kernel_size=(1, 1), stride=(1, 1))\n",
      "      )\n",
      "      (ConvBlock): ConvBlock(\n",
      "        (convblock): Sequential(\n",
      "          (0): Conv2d(64, 32, kernel_size=(3, 3), stride=(1, 1), padding=(1, 1))\n",
      "          (1): BatchNorm2d(32, eps=1e-05, momentum=0.1, affine=True, track_running_stats=True)\n",
      "          (2): ReLU()\n",
      "          (3): Conv2d(32, 32, kernel_size=(3, 3), stride=(1, 1), padding=(1, 1))\n",
      "          (4): BatchNorm2d(32, eps=1e-05, momentum=0.1, affine=True, track_running_stats=True)\n",
      "          (5): ReLU()\n",
      "        )\n",
      "      )\n",
      "    )\n",
      "    (2): UpConvBlock(\n",
      "      (UpBlock): Sequential(\n",
      "        (0): Upsample(scale_factor=2.0, mode=bilinear)\n",
      "        (1): Conv2d(32, 16, kernel_size=(1, 1), stride=(1, 1))\n",
      "      )\n",
      "      (ConvBlock): ConvBlock(\n",
      "        (convblock): Sequential(\n",
      "          (0): Conv2d(32, 16, kernel_size=(3, 3), stride=(1, 1), padding=(1, 1))\n",
      "          (1): BatchNorm2d(16, eps=1e-05, momentum=0.1, affine=True, track_running_stats=True)\n",
      "          (2): ReLU()\n",
      "          (3): Conv2d(16, 16, kernel_size=(3, 3), stride=(1, 1), padding=(1, 1))\n",
      "          (4): BatchNorm2d(16, eps=1e-05, momentum=0.1, affine=True, track_running_stats=True)\n",
      "          (5): ReLU()\n",
      "        )\n",
      "      )\n",
      "    )\n",
      "  )\n",
      "  (last_layer): Conv2d(16, 1, kernel_size=(1, 1), stride=(1, 1))\n",
      ")\n"
     ]
    }
   ],
   "source": [
    "## Output model structure;\n",
    "print(model)"
   ]
  },
  {
   "cell_type": "code",
   "execution_count": 5,
   "metadata": {},
   "outputs": [
    {
     "name": "stdout",
     "output_type": "stream",
     "text": [
      "Down path, tensor size:  torch.Size([2, 16, 336, 336])\n",
      "Down path, max pooling, tensor size:  torch.Size([2, 16, 168, 168])\n",
      "Down path, tensor size:  torch.Size([2, 32, 168, 168])\n",
      "Down path, max pooling, tensor size:  torch.Size([2, 32, 84, 84])\n",
      "Down path, tensor size:  torch.Size([2, 64, 84, 84])\n",
      "Down path, max pooling, tensor size:  torch.Size([2, 64, 42, 42])\n",
      "Down path, tensor size:  torch.Size([2, 128, 42, 42])\n",
      "Up path, tensor size:  torch.Size([2, 64, 84, 84])\n",
      "Up path, tensor size:  torch.Size([2, 32, 168, 168])\n",
      "Up path, tensor size:  torch.Size([2, 16, 336, 336])\n"
     ]
    },
    {
     "data": {
      "text/plain": [
       "torch.Size([2, 1, 336, 336])"
      ]
     },
     "execution_count": 5,
     "metadata": {},
     "output_type": "execute_result"
    }
   ],
   "source": [
    "## Pass inputs to the model, output size of the output tensor as it passes through the layers;\n",
    "output = model(inputs)\n",
    "output.shape"
   ]
  }
 ],
 "metadata": {
  "kernelspec": {
   "display_name": "Python 3",
   "language": "python",
   "name": "python3"
  },
  "language_info": {
   "codemirror_mode": {
    "name": "ipython",
    "version": 3
   },
   "file_extension": ".py",
   "mimetype": "text/x-python",
   "name": "python",
   "nbconvert_exporter": "python",
   "pygments_lexer": "ipython3",
   "version": "3.6.8"
  }
 },
 "nbformat": 4,
 "nbformat_minor": 2
}

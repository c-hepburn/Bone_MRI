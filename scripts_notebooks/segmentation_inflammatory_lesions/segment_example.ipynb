{
 "cells": [
  {
   "cell_type": "code",
   "execution_count": 1,
   "metadata": {},
   "outputs": [],
   "source": [
    "from segment import *"
   ]
  },
  {
   "cell_type": "code",
   "execution_count": 2,
   "metadata": {},
   "outputs": [],
   "source": [
    "## Load STIR image, normal bone mask, disease region mask;\n",
    "image = nib.load('example_stir_image.nii.gz')\n",
    "mask_nm = nib.load('example_normal_marrow.nii.gz')\n",
    "mask_dr = nib.load('example_disease_region.nii.gz')"
   ]
  },
  {
   "cell_type": "code",
   "execution_count": 3,
   "metadata": {},
   "outputs": [],
   "source": [
    "## Create Segment class object;\n",
    "segment = Segment()"
   ]
  },
  {
   "cell_type": "code",
   "execution_count": 4,
   "metadata": {},
   "outputs": [],
   "source": [
    "## Segment inflammatory lesions;\n",
    "## Pass STIR image, normal bone mask, disease region mask to the class method;\n",
    "## Output: nifti file;\n",
    "seg = segment.segment(image, mask_nm, mask_dr)\n",
    "\n",
    "## Save the result;\n",
    "nib.save(seg, 'example_segmentation')"
   ]
  },
  {
   "cell_type": "code",
   "execution_count": 5,
   "metadata": {},
   "outputs": [],
   "source": [
    "# ## Retrieve intermediate results if needed;\n",
    "\n",
    "# seg_1 = segment.seg_1     ## segmentation at the lower threshold (nifti file);\n",
    "# seg_2 = segment.seg_2     ## segmentation at the upper threshold (nifti file);\n",
    "# seg_sum = segment.seg_sum ## sum of the segmentations (nifti file);\n",
    "\n",
    "# intensities = segment.intensities ## intensities of normal bone voxels (1D numpy array);\n",
    "# th_1 = segment.th_1  ## the lower threshold;\n",
    "# th_2 = segment.th_2  ## the upper threshold;\n",
    "# upper_q = segment.upper_q   ## upper quartile;\n",
    "# multiple = segment.multiple ## multiple;\n",
    "# IQR = segment.IQR ## inter-quartile range;"
   ]
  }
 ],
 "metadata": {
  "kernelspec": {
   "display_name": "Python 3",
   "language": "python",
   "name": "python3"
  },
  "language_info": {
   "codemirror_mode": {
    "name": "ipython",
    "version": 3
   },
   "file_extension": ".py",
   "mimetype": "text/x-python",
   "name": "python",
   "nbconvert_exporter": "python",
   "pygments_lexer": "ipython3",
   "version": "3.6.8"
  }
 },
 "nbformat": 4,
 "nbformat_minor": 2
}
